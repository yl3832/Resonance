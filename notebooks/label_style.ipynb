{
 "cells": [
  {
   "cell_type": "markdown",
   "metadata": {},
   "source": [
    "# Part - 3 :  Label the Style Dataset\n",
    "\n",
    "*Yilin Lyu*\n",
    "\n",
    "*yl3832@columbia.edu*\n",
    "\n",
    "This jupyter notebook describes the automatic labeling process of labelling the image in the **Style-Grid view.csv**\n",
    "\n",
    "### This work was done by:\n",
    "\n",
    "1) Create two **disctionaries** for color and body tags. \n",
    "\n",
    "2) Use **Resonance_code to retrieve information** from the dictionaries and label the Style Name. \n",
    "\n",
    "3) **Save** the tags to csv file.\n",
    "\n",
    "There are **4252** new labels created in the **style** dataset. "
   ]
  },
  {
   "cell_type": "code",
   "execution_count": 2,
   "metadata": {
    "collapsed": true
   },
   "outputs": [],
   "source": [
    "import pandas as pd\n",
    "import os"
   ]
  },
  {
   "cell_type": "code",
   "execution_count": 3,
   "metadata": {},
   "outputs": [
    {
     "data": {
      "text/html": [
       "<div>\n",
       "<style scoped>\n",
       "    .dataframe tbody tr th:only-of-type {\n",
       "        vertical-align: middle;\n",
       "    }\n",
       "\n",
       "    .dataframe tbody tr th {\n",
       "        vertical-align: top;\n",
       "    }\n",
       "\n",
       "    .dataframe thead th {\n",
       "        text-align: right;\n",
       "    }\n",
       "</style>\n",
       "<table border=\"1\" class=\"dataframe\">\n",
       "  <thead>\n",
       "    <tr style=\"text-align: right;\">\n",
       "      <th></th>\n",
       "      <th>Style Name</th>\n",
       "      <th>IMAGE</th>\n",
       "      <th>Resonance_code</th>\n",
       "      <th>TAGS: Material</th>\n",
       "      <th>TAGS: Color</th>\n",
       "      <th>TAGS: Body</th>\n",
       "      <th>id</th>\n",
       "    </tr>\n",
       "  </thead>\n",
       "  <tbody>\n",
       "    <tr>\n",
       "      <th>0</th>\n",
       "      <td>🛡 The Tea Length Tunic - Petal Poet  in Stret...</td>\n",
       "      <td>NaN</td>\n",
       "      <td>TK-6011 SGT19 PANSYP</td>\n",
       "      <td>Chief Silk, Weave Woven Stretch, GSM 130-160, ...</td>\n",
       "      <td>Contrast High, Bright Medium, Genre Floral, Fi...</td>\n",
       "      <td>None</td>\n",
       "      <td>recCPenP3CfKvzeJD</td>\n",
       "    </tr>\n",
       "    <tr>\n",
       "      <th>1</th>\n",
       "      <td>🛡 The Sleeveless Classic Blouse - Cora's Cafe...</td>\n",
       "      <td>NaN</td>\n",
       "      <td>TK-3018 SGT19 JPWALL</td>\n",
       "      <td>Chief Silk, Weave Woven Stretch, GSM 130-160, ...</td>\n",
       "      <td>Contrast Medium, Bright Medium, Genre Floral, ...</td>\n",
       "      <td>None</td>\n",
       "      <td>rec9rh22rgAsvYerk</td>\n",
       "    </tr>\n",
       "  </tbody>\n",
       "</table>\n",
       "</div>"
      ],
      "text/plain": [
       "                                          Style Name IMAGE  \\\n",
       "0  🛡 The Tea Length Tunic - Petal Poet  in Stret...   NaN   \n",
       "1  🛡 The Sleeveless Classic Blouse - Cora's Cafe...   NaN   \n",
       "\n",
       "         Resonance_code                                     TAGS: Material  \\\n",
       "0  TK-6011 SGT19 PANSYP  Chief Silk, Weave Woven Stretch, GSM 130-160, ...   \n",
       "1  TK-3018 SGT19 JPWALL  Chief Silk, Weave Woven Stretch, GSM 130-160, ...   \n",
       "\n",
       "                                         TAGS: Color TAGS: Body  \\\n",
       "0  Contrast High, Bright Medium, Genre Floral, Fi...       None   \n",
       "1  Contrast Medium, Bright Medium, Genre Floral, ...       None   \n",
       "\n",
       "                  id  \n",
       "0  recCPenP3CfKvzeJD  \n",
       "1  rec9rh22rgAsvYerk  "
      ]
     },
     "execution_count": 3,
     "metadata": {},
     "output_type": "execute_result"
    }
   ],
   "source": [
    "style = pd.read_csv(\"Style-Grid view.csv\")\n",
    "style.head(2)"
   ]
  },
  {
   "cell_type": "code",
   "execution_count": 4,
   "metadata": {},
   "outputs": [
    {
     "data": {
      "text/html": [
       "<div>\n",
       "<style scoped>\n",
       "    .dataframe tbody tr th:only-of-type {\n",
       "        vertical-align: middle;\n",
       "    }\n",
       "\n",
       "    .dataframe tbody tr th {\n",
       "        vertical-align: top;\n",
       "    }\n",
       "\n",
       "    .dataframe thead th {\n",
       "        text-align: right;\n",
       "    }\n",
       "</style>\n",
       "<table border=\"1\" class=\"dataframe\">\n",
       "  <thead>\n",
       "    <tr style=\"text-align: right;\">\n",
       "      <th></th>\n",
       "      <th>Unnamed: 0</th>\n",
       "      <th>Color_Name_</th>\n",
       "      <th>Color_Code</th>\n",
       "      <th>IMAGE</th>\n",
       "      <th>TAG: Color</th>\n",
       "      <th>id</th>\n",
       "    </tr>\n",
       "  </thead>\n",
       "  <tbody>\n",
       "    <tr>\n",
       "      <th>0</th>\n",
       "      <td>0</td>\n",
       "      <td>Cut Paper</td>\n",
       "      <td>CUTPYS</td>\n",
       "      <td>SCzyoVwFSVqHCDkZXVYt_Cut%20Paper.png (https://...</td>\n",
       "      <td>Primary Purple, Secondary Red, Field Large, Co...</td>\n",
       "      <td>rec0016dbT64i8wpT</td>\n",
       "    </tr>\n",
       "    <tr>\n",
       "      <th>1</th>\n",
       "      <td>1</td>\n",
       "      <td>White w/Thin Navy Vertical Stripe</td>\n",
       "      <td>WHITUI</td>\n",
       "      <td>fcsx6bXR7CHzNK8gtpPI_Screen%20Shot%202018-08-2...</td>\n",
       "      <td>Primary white, Secondary black,  Bright Medium...</td>\n",
       "      <td>rec01n5wINvMeGI9S</td>\n",
       "    </tr>\n",
       "  </tbody>\n",
       "</table>\n",
       "</div>"
      ],
      "text/plain": [
       "   Unnamed: 0                        Color_Name_ Color_Code  \\\n",
       "0           0                          Cut Paper     CUTPYS   \n",
       "1           1  White w/Thin Navy Vertical Stripe     WHITUI   \n",
       "\n",
       "                                               IMAGE  \\\n",
       "0  SCzyoVwFSVqHCDkZXVYt_Cut%20Paper.png (https://...   \n",
       "1  fcsx6bXR7CHzNK8gtpPI_Screen%20Shot%202018-08-2...   \n",
       "\n",
       "                                          TAG: Color                 id  \n",
       "0  Primary Purple, Secondary Red, Field Large, Co...  rec0016dbT64i8wpT  \n",
       "1  Primary white, Secondary black,  Bright Medium...  rec01n5wINvMeGI9S  "
      ]
     },
     "execution_count": 4,
     "metadata": {},
     "output_type": "execute_result"
    }
   ],
   "source": [
    "color = pd.read_csv(\"Colors-Grid_view_labeled.csv\")\n",
    "color.head(2)"
   ]
  },
  {
   "cell_type": "code",
   "execution_count": 5,
   "metadata": {},
   "outputs": [
    {
     "data": {
      "text/html": [
       "<div>\n",
       "<style scoped>\n",
       "    .dataframe tbody tr th:only-of-type {\n",
       "        vertical-align: middle;\n",
       "    }\n",
       "\n",
       "    .dataframe tbody tr th {\n",
       "        vertical-align: top;\n",
       "    }\n",
       "\n",
       "    .dataframe thead th {\n",
       "        text-align: right;\n",
       "    }\n",
       "</style>\n",
       "<table border=\"1\" class=\"dataframe\">\n",
       "  <thead>\n",
       "    <tr style=\"text-align: right;\">\n",
       "      <th></th>\n",
       "      <th>Unnamed: 0</th>\n",
       "      <th>Body Name</th>\n",
       "      <th>IMAGE</th>\n",
       "      <th>Product Tags: Body</th>\n",
       "      <th>Core Body Number</th>\n",
       "      <th>TAG: Body</th>\n",
       "      <th>id</th>\n",
       "    </tr>\n",
       "  </thead>\n",
       "  <tbody>\n",
       "    <tr>\n",
       "      <th>0</th>\n",
       "      <td>0</td>\n",
       "      <td>ZIP HOODIE</td>\n",
       "      <td>EH2KTK9Qeer0hHk66aon_Screen%20Shot%202018-01-0...</td>\n",
       "      <td>NaN</td>\n",
       "      <td>CM-3003</td>\n",
       "      <td>Use Day, Use Weekend, Use Work, Fit Relaxed, D...</td>\n",
       "      <td>recS4t29J73BYrznq</td>\n",
       "    </tr>\n",
       "    <tr>\n",
       "      <th>1</th>\n",
       "      <td>1</td>\n",
       "      <td>Zip BaseBall Jacket</td>\n",
       "      <td>uZNESfIgQLu2lhCVJy2X_Screen%20Shot%202017-12-2...</td>\n",
       "      <td>NaN</td>\n",
       "      <td>CM-4001</td>\n",
       "      <td>Use Day, Use Work, Body Top 3, Length Medium, ...</td>\n",
       "      <td>recLupRsEop46s4ME</td>\n",
       "    </tr>\n",
       "  </tbody>\n",
       "</table>\n",
       "</div>"
      ],
      "text/plain": [
       "   Unnamed: 0            Body Name  \\\n",
       "0           0           ZIP HOODIE   \n",
       "1           1  Zip BaseBall Jacket   \n",
       "\n",
       "                                               IMAGE  Product Tags: Body  \\\n",
       "0  EH2KTK9Qeer0hHk66aon_Screen%20Shot%202018-01-0...                 NaN   \n",
       "1  uZNESfIgQLu2lhCVJy2X_Screen%20Shot%202017-12-2...                 NaN   \n",
       "\n",
       "  Core Body Number                                          TAG: Body  \\\n",
       "0          CM-3003  Use Day, Use Weekend, Use Work, Fit Relaxed, D...   \n",
       "1          CM-4001  Use Day, Use Work, Body Top 3, Length Medium, ...   \n",
       "\n",
       "                  id  \n",
       "0  recS4t29J73BYrznq  \n",
       "1  recLupRsEop46s4ME  "
      ]
     },
     "execution_count": 5,
     "metadata": {},
     "output_type": "execute_result"
    }
   ],
   "source": [
    "body = pd.read_csv(\"Body-Grid_view_labeled.csv\")\n",
    "body.head(2)"
   ]
  },
  {
   "cell_type": "markdown",
   "metadata": {},
   "source": [
    "## How to tag the style dataset?\n",
    "\n",
    "Notice that we could add tags to the **style** dataset according to **Resonance_code**\n",
    "\n",
    "A **Resonance_code** includes three parts: *body_tag_code* + *material_tag_code* + *color_tag_code*.\n",
    "\n",
    "For example: a cloth with Resonance_code: CM-3003 SGT19 WHITUI means:\n",
    "      \n",
    "      ZIP HOODIE (CM-3003) with hite w/Thin Navy Vertical Stripe (WHITUI)\n",
    "\n",
    "Therefore, we can now label the style using our previous results. \n",
    "\n",
    "For those that do not have a code or a image, we cannot label it right now"
   ]
  },
  {
   "cell_type": "markdown",
   "metadata": {},
   "source": [
    "## 1) Create two disctionaries for color and body tags"
   ]
  },
  {
   "cell_type": "code",
   "execution_count": 6,
   "metadata": {
    "collapsed": true
   },
   "outputs": [],
   "source": [
    "'''\n",
    "create two dictionaries to store the information\n",
    "color_dict includes the information of color \n",
    "body_dict includes the information of body \n",
    "'''\n",
    "Color_Code_list = list(color[\"Color_Code\"])\n",
    "Body_Name_list = list(body['Core Body Number'])\n",
    "color_dict = {}\n",
    "for color_code in Color_Code_list:\n",
    "    color_tags = color[color[\"Color_Code\"] ==  color_code]['TAG: Color']\n",
    "    if len(color_tags) > 0:\n",
    "        color_dict[color_code] = color_tags.iloc[0]\n",
    "    else: color_dict[color_code] = ''\n",
    "body_dict = {}\n",
    "for body_code in Body_Name_list:\n",
    "    body_tags = body[body[\"Core Body Number\"] ==  body_code]['TAG: Body']\n",
    "    if len(body_tags) > 0:\n",
    "        body_dict[body_code] = body_tags.iloc[0]\n",
    "    else: body_dict[body_code] = ''"
   ]
  },
  {
   "cell_type": "markdown",
   "metadata": {},
   "source": [
    "## 2) Use Resonance_code to retrieve information from the dictionaries and label the Style Name"
   ]
  },
  {
   "cell_type": "code",
   "execution_count": 7,
   "metadata": {
    "collapsed": true
   },
   "outputs": [],
   "source": [
    "Resonance_Code_list = list(style['Resonance_code'])"
   ]
  },
  {
   "cell_type": "code",
   "execution_count": 8,
   "metadata": {},
   "outputs": [
    {
     "name": "stdout",
     "output_type": "stream",
     "text": [
      "there are 4252 new labels created\n"
     ]
    }
   ],
   "source": [
    "count = 0\n",
    "for Resonance_code in Resonance_Code_list:\n",
    "    if len(Resonance_code) > 5:\n",
    "        body_code = Resonance_code[0:7]\n",
    "        color_code = Resonance_code[-6:]\n",
    "        if body_code in body_dict:\n",
    "            body_tag = body_dict[body_code]\n",
    "        else: body_tag = ''\n",
    "        if color_code in color_dict:   \n",
    "            color_tags = color_dict[color_code]\n",
    "        else: color_tags = ''\n",
    "        style[\"TAGS: Body\"].iloc[style[style['Resonance_code'] == Resonance_code].index[0]] = body_tag\n",
    "        style[\"TAGS: Color\"].iloc[style[style['Resonance_code'] == Resonance_code].index[0]] = color_tags\n",
    "        count = count + 1\n",
    "print \"there are \" + str(count) + \" new labels created\""
   ]
  },
  {
   "cell_type": "code",
   "execution_count": 9,
   "metadata": {},
   "outputs": [
    {
     "data": {
      "text/html": [
       "<div>\n",
       "<style scoped>\n",
       "    .dataframe tbody tr th:only-of-type {\n",
       "        vertical-align: middle;\n",
       "    }\n",
       "\n",
       "    .dataframe tbody tr th {\n",
       "        vertical-align: top;\n",
       "    }\n",
       "\n",
       "    .dataframe thead th {\n",
       "        text-align: right;\n",
       "    }\n",
       "</style>\n",
       "<table border=\"1\" class=\"dataframe\">\n",
       "  <thead>\n",
       "    <tr style=\"text-align: right;\">\n",
       "      <th></th>\n",
       "      <th>Style Name</th>\n",
       "      <th>IMAGE</th>\n",
       "      <th>Resonance_code</th>\n",
       "      <th>TAGS: Material</th>\n",
       "      <th>TAGS: Color</th>\n",
       "      <th>TAGS: Body</th>\n",
       "      <th>id</th>\n",
       "    </tr>\n",
       "  </thead>\n",
       "  <tbody>\n",
       "    <tr>\n",
       "      <th>0</th>\n",
       "      <td>🛡 The Tea Length Tunic - Petal Poet  in Stret...</td>\n",
       "      <td>NaN</td>\n",
       "      <td>TK-6011 SGT19 PANSYP</td>\n",
       "      <td>Chief Silk, Weave Woven Stretch, GSM 130-160, ...</td>\n",
       "      <td>Contrast High, Bright Medium, Genre Floral, Fi...</td>\n",
       "      <td>Use Day, Use Weekend, Use Work, Fit Relaxed, D...</td>\n",
       "      <td>recCPenP3CfKvzeJD</td>\n",
       "    </tr>\n",
       "    <tr>\n",
       "      <th>1</th>\n",
       "      <td>🛡 The Sleeveless Classic Blouse - Cora's Cafe...</td>\n",
       "      <td>NaN</td>\n",
       "      <td>TK-3018 SGT19 JPWALL</td>\n",
       "      <td>Chief Silk, Weave Woven Stretch, GSM 130-160, ...</td>\n",
       "      <td>Contrast Medium, Bright Medium, Genre Floral, ...</td>\n",
       "      <td>Use Day, Use Work, Detail Soft, Use Weekend, F...</td>\n",
       "      <td>rec9rh22rgAsvYerk</td>\n",
       "    </tr>\n",
       "  </tbody>\n",
       "</table>\n",
       "</div>"
      ],
      "text/plain": [
       "                                          Style Name IMAGE  \\\n",
       "0  🛡 The Tea Length Tunic - Petal Poet  in Stret...   NaN   \n",
       "1  🛡 The Sleeveless Classic Blouse - Cora's Cafe...   NaN   \n",
       "\n",
       "         Resonance_code                                     TAGS: Material  \\\n",
       "0  TK-6011 SGT19 PANSYP  Chief Silk, Weave Woven Stretch, GSM 130-160, ...   \n",
       "1  TK-3018 SGT19 JPWALL  Chief Silk, Weave Woven Stretch, GSM 130-160, ...   \n",
       "\n",
       "                                         TAGS: Color  \\\n",
       "0  Contrast High, Bright Medium, Genre Floral, Fi...   \n",
       "1  Contrast Medium, Bright Medium, Genre Floral, ...   \n",
       "\n",
       "                                          TAGS: Body                 id  \n",
       "0  Use Day, Use Weekend, Use Work, Fit Relaxed, D...  recCPenP3CfKvzeJD  \n",
       "1  Use Day, Use Work, Detail Soft, Use Weekend, F...  rec9rh22rgAsvYerk  "
      ]
     },
     "execution_count": 9,
     "metadata": {},
     "output_type": "execute_result"
    }
   ],
   "source": [
    "style.head(2)"
   ]
  },
  {
   "cell_type": "markdown",
   "metadata": {},
   "source": [
    "## 3) Save the tags to csv file"
   ]
  },
  {
   "cell_type": "code",
   "execution_count": 10,
   "metadata": {
    "collapsed": true
   },
   "outputs": [],
   "source": [
    "style.to_csv(\"Style-Grid_view_labeled.csv\")"
   ]
  },
  {
   "cell_type": "markdown",
   "metadata": {},
   "source": [
    "### Label results"
   ]
  },
  {
   "cell_type": "markdown",
   "metadata": {},
   "source": [
    "The whole dataset is labeled if there is a Resonance_code of each sample and the labeled dataset is saved as **Style-Grid_view_labeled.csv**.\n",
    "\n",
    "There are **4252** new labels created in the **style** dataset. "
   ]
  },
  {
   "cell_type": "markdown",
   "metadata": {},
   "source": [
    "## Thank you!"
   ]
  },
  {
   "cell_type": "code",
   "execution_count": null,
   "metadata": {
    "collapsed": true
   },
   "outputs": [],
   "source": []
  }
 ],
 "metadata": {
  "kernelspec": {
   "display_name": "Python 2",
   "language": "python",
   "name": "python2"
  },
  "language_info": {
   "codemirror_mode": {
    "name": "ipython",
    "version": 2
   },
   "file_extension": ".py",
   "mimetype": "text/x-python",
   "name": "python",
   "nbconvert_exporter": "python",
   "pygments_lexer": "ipython2",
   "version": "2.7.3"
  }
 },
 "nbformat": 4,
 "nbformat_minor": 2
}
